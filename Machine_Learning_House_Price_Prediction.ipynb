{
  "nbformat": 4,
  "nbformat_minor": 0,
  "metadata": {
    "colab": {
      "provenance": [],
      "authorship_tag": "ABX9TyPx/8sSolCt+LaAw5voRVFA",
      "include_colab_link": true
    },
    "kernelspec": {
      "name": "python3",
      "display_name": "Python 3"
    },
    "language_info": {
      "name": "python"
    }
  },
  "cells": [
    {
      "cell_type": "markdown",
      "metadata": {
        "id": "view-in-github",
        "colab_type": "text"
      },
      "source": [
        "<a href=\"https://colab.research.google.com/github/OnkarSwaroop07/house_price_prediction_ml/blob/main/Machine_Learning_House_Price_Prediction.ipynb\" target=\"_parent\"><img src=\"https://colab.research.google.com/assets/colab-badge.svg\" alt=\"Open In Colab\"/></a>"
      ]
    },
    {
      "cell_type": "code",
      "execution_count": 12,
      "metadata": {
        "colab": {
          "base_uri": "https://localhost:8080/"
        },
        "id": "A307fnsnsPVj",
        "outputId": "b44e6345-deec-495a-fbcb-4af8768f1950"
      },
      "outputs": [
        {
          "output_type": "stream",
          "name": "stdout",
          "text": [
            "Mean Squared Error: 0.00%\n",
            "[16899.]\n"
          ]
        }
      ],
      "source": [
        "import numpy as np\n",
        "from sklearn.linear_model import LinearRegression\n",
        "from sklearn.metrics import mean_squared_error\n",
        "from sklearn.model_selection import train_test_split\n",
        "\n",
        "x = np.array([10,30,45,60,75,100]).reshape(-1,1)\n",
        "y = np.array([1299,3699,5499,7299,9099,12099])\n",
        "\n",
        "# Splitting data\n",
        "x_train, x_test, y_train, y_test = train_test_split(x,y,test_size = 0.3, random_state = 26)\n",
        "\n",
        "# Training\n",
        "model = LinearRegression()\n",
        "model.fit(x_train,y_train)\n",
        "\n",
        "# Predicting\n",
        "y_pred = model.predict(x_test)\n",
        "\n",
        "# Evaluating\n",
        "mse = mean_squared_error(y_test,y_pred)\n",
        "print(f\"Mean Squared Error: {mse:.2f}%\")\n",
        "\n",
        "# Testing the Algorithm\n",
        "new_feature = np.array([[140]])\n",
        "predicted_price = model.predict(new_feature)\n",
        "print(predicted_price)"
      ]
    }
  ]
}